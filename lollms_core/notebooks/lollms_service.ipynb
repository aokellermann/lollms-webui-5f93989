{
  "cells": [
    {
      "cell_type": "code",
      "execution_count": null,
      "metadata": {
        "colab": {
          "base_uri": "https://localhost:8080/"
        },
        "id": "Lm1ahQJs7lMk",
        "outputId": "0af9d0e2-2385-4123-b2ca-4f82ae29b374"
      },
      "outputs": [],
      "source": [
        "!pip3 install torch torchvision torchaudio --index-url https://download.pytorch.org/whl/cu118\n",
        "!pip install lollms --upgrade"
      ]
    },
    {
      "cell_type": "code",
      "execution_count": null,
      "metadata": {
        "colab": {
          "base_uri": "https://localhost:8080/"
        },
        "id": "YP6kXgau8Wej",
        "outputId": "4a9492f9-4843-4e56-9cd1-7e031b337a30"
      },
      "outputs": [],
      "source": [
        "!mkdir zoos\n",
        "!git clone https://github.com/ParisNeo/lollms_bindings_zoo.git zoos/bindings_zoo\n",
        "!git clone https://github.com/ParisNeo/lollms_extensions_zoo.git zoos/extensions_zoo\n",
        "!git clone https://github.com/ParisNeo/models_zoo.git zoos/models_zoo\n",
        "!git clone https://github.com/ParisNeo/lollms_personalities_zoo.git zoos/personalities_zoo\n",
        "\n"
      ]
    },
    {
      "cell_type": "code",
      "execution_count": null,
      "metadata": {
        "colab": {
          "base_uri": "https://localhost:8080/"
        },
        "id": "DSsf2L1kPc0K",
        "outputId": "5a7c6af4-99f0-4c6f-a1cc-cb174b968879"
      },
      "outputs": [],
      "source": [
        "!lollms-settings --silent --set_personal_folder_path ./personal_data --install_binding exllama2 --install_model TheBloke/Airoboros-L2-13B-3.1.1-GPTQ"
      ]
    }
  ],
  "metadata": {
    "accelerator": "GPU",
    "colab": {
      "provenance": []
    },
    "kernelspec": {
      "display_name": "Python 3",
      "name": "python3"
    },
    "language_info": {
      "name": "python"
    }
  },
  "nbformat": 4,
  "nbformat_minor": 0
}
