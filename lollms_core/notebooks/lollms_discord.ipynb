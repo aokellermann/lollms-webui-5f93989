{
  "cells": [
    {
      "cell_type": "code",
      "execution_count": null,
      "metadata": {
        "colab": {
          "base_uri": "https://localhost:8080/"
        },
        "id": "Lm1ahQJs7lMk",
        "outputId": "f486f019-ff7e-4971-ab2d-53eddf47cdec"
      },
      "outputs": [],
      "source": [
        "!pip3 install torch torchvision torchaudio --index-url https://download.pytorch.org/whl/cu118\n",
        "!pip install lollms --upgrade"
      ]
    },
    {
      "cell_type": "code",
      "execution_count": null,
      "metadata": {
        "colab": {
          "base_uri": "https://localhost:8080/"
        },
        "id": "YP6kXgau8Wej",
        "outputId": "3c7196be-4ce1-4314-f0a0-7738e13eb957"
      },
      "outputs": [],
      "source": [
        "!mkdir zoos\n",
        "!git clone https://github.com/ParisNeo/lollms_bindings_zoo.git zoos/bindings_zoo\n",
        "!git clone https://github.com/ParisNeo/lollms_extensions_zoo.git zoos/extensions_zoo\n",
        "!git clone https://github.com/ParisNeo/models_zoo.git zoos/models_zoo\n",
        "!git clone https://github.com/ParisNeo/lollms_personalities_zoo.git zoos/personalities_zoo\n",
        "\n",
        "\n"
      ]
    },
    {
      "cell_type": "code",
      "execution_count": null,
      "metadata": {
        "colab": {
          "base_uri": "https://localhost:8080/"
        },
        "id": "DSsf2L1kPc0K",
        "outputId": "fe6dc4d1-c652-46bf-ed6e-9c4dfb80dc82"
      },
      "outputs": [],
      "source": [
        "!lollms-settings --silent --tool_prefix lollms_discord_  --set_personal_folder_path ./personal_data --install_binding hugging_face --install_model TheBloke/Airoboros-L2-13B-3.1.1-GPTQ"
      ]
    },
    {
      "cell_type": "code",
      "execution_count": null,
      "metadata": {
        "colab": {
          "base_uri": "https://localhost:8080/"
        },
        "id": "R3IOhe7KJZQT",
        "outputId": "95022a48-2e25-479f-aef7-e20f9c3ed1f9"
      },
      "outputs": [],
      "source": [
        "!pip install discord.py"
      ]
    },
    {
      "cell_type": "code",
      "execution_count": null,
      "metadata": {
        "colab": {
          "base_uri": "https://localhost:8080/"
        },
        "id": "x1oO7C_v8oTI",
        "outputId": "cdca280b-d8bc-4d18-de80-86e4a4637b41"
      },
      "outputs": [],
      "source": [
        "!lollms-discord"
      ]
    },
    {
      "cell_type": "code",
      "execution_count": null,
      "metadata": {
        "colab": {
          "base_uri": "https://localhost:8080/"
        },
        "id": "fbPrg7RH-Ui8",
        "outputId": "1b82968d-06c6-4a73-8a28-67e8f7619099"
      },
      "outputs": [],
      "source": [
        "!ip addr show"
      ]
    }
  ],
  "metadata": {
    "accelerator": "GPU",
    "colab": {
      "provenance": []
    },
    "kernelspec": {
      "display_name": "Python 3",
      "name": "python3"
    },
    "language_info": {
      "name": "python"
    }
  },
  "nbformat": 4,
  "nbformat_minor": 0
}
